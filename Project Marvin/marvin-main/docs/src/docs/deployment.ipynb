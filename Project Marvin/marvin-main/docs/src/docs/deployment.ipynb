{
 "cells": [
  {
   "attachments": {},
   "cell_type": "markdown",
   "metadata": {},
   "source": [
    "# Deployment\n",
    "\n",
    "## FastAPI\n",
    "\n",
    "We strongly recommend deploying Marvin's components with FastAPI. Here's how you can deploy a declarative API gateway in a few lines of code."
   ]
  },
  {
   "cell_type": "code",
   "execution_count": null,
   "metadata": {},
   "outputs": [],
   "source": [
    "from fastapi import FastAPI\n",
    "from marvin import ai_fn, ai_model\n",
    "from pydantic import BaseModel\n",
    "import uvicorn\n",
    "import asyncio\n",
    "\n",
    "app = FastAPI()\n",
    "\n",
    "\n",
    "@ai_fn\n",
    "def generate_fruits(n: int) -> list[str]:\n",
    "    \"\"\"Generates a list of `n` fruits\"\"\"\n",
    "\n",
    "\n",
    "@ai_fn\n",
    "def generate_vegetables(n: int, color: str) -> list[str]:\n",
    "    \"\"\"Generates a list of `n` vegetables of color `color`\"\"\"\n",
    "\n",
    "\n",
    "@ai_model\n",
    "class Person(BaseModel):\n",
    "    first_name: str\n",
    "    last_name: str\n",
    "\n",
    "\n",
    "app.add_api_route(\"/generate_fruits\", generate_fruits)\n",
    "app.add_api_route(\"/generate_vegetables\", generate_vegetables)\n",
    "app.add_api_route(\"/person/extract\", Person.route())"
   ]
  },
  {
   "attachments": {},
   "cell_type": "markdown",
   "metadata": {},
   "source": [
    "If you want to serve the previous example from, say, a Jupyter Notebook for local testing, you can also include:"
   ]
  },
  {
   "cell_type": "code",
   "execution_count": null,
   "metadata": {},
   "outputs": [],
   "source": [
    "# ... from above\n",
    "# If you want to run an API from a Jupyter Notebook.\n",
    "\n",
    "config = uvicorn.Config(app)\n",
    "server = uvicorn.Server(config)\n",
    "await server.serve()\n",
    "\n",
    "# Then navigate to localhost:8000/docs"
   ]
  }
 ],
 "metadata": {
  "kernelspec": {
   "display_name": "Python 3 (ipykernel)",
   "language": "python",
   "name": "python3"
  },
  "orig_nbformat": 4
 },
 "nbformat": 4,
 "nbformat_minor": 2
}
