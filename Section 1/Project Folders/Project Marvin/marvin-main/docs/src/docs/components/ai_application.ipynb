{
 "cells": [
  {
   "cell_type": "markdown",
   "metadata": {},
   "source": [
    "# AI Application\n",
    "\n",
    "AI Applications are a high-level component, or building block, of Marvin. Like all Marvin components, they are completely standalone: you're free to use them with or without the rest of Marvin."
   ]
  },
  {
   "cell_type": "markdown",
   "metadata": {},
   "source": [
    "<div class=\"admonition abstract\">\n",
    "  <p class=\"admonition-title\">What it does</p>\n",
    "  <p>\n",
    "    An autonomous and conversational interface to a stateful, AI-powered application.\n",
    "  </p>\n",
    "</div>"
   ]
  },
  {
   "cell_type": "code",
   "execution_count": 1,
   "metadata": {},
   "outputs": [],
   "source": [
    "from datetime import datetime\n",
    "from pydantic import BaseModel, Field\n",
    "from marvin import AIApplication\n",
    "\n",
    "\n",
    "class ToDo(BaseModel):\n",
    "    title: str\n",
    "    description: str\n",
    "    due_date: datetime = None\n",
    "    done: bool = False\n",
    "\n",
    "\n",
    "class ToDoState(BaseModel):\n",
    "    todos: list[ToDo] = []\n",
    "\n",
    "\n",
    "class ToDoApp(AIApplication):\n",
    "    state: ToDoState = Field(default_factory=ToDoState)\n",
    "    description: str = \"\"\"\n",
    "        A simple to-do tracker. Users will give instructions to add, remove, and\n",
    "        update their to-dos.\n",
    "        \"\"\""
   ]
  },
  {
   "cell_type": "markdown",
   "metadata": {},
   "source": [
    "<div class=\"admonition info\">\n",
    "  <p class=\"admonition-title\">How it works</p>\n",
    "  <p>\n",
    "    Each AI application maintains an internal <code>state</code> and <code>plan</code> and can use <code>tools</code> to interact with the world.\n",
    "  </p>\n",
    "</div>"
   ]
  },
  {
   "cell_type": "markdown",
   "metadata": {},
   "source": [
    "<div class=\"admonition tip\">\n",
    "  <p class=\"admonition-title\">When to use</p>\n",
    "  <p>\n",
    "    Use an AI Application as the foundation of an autonomous agent (or system of agents) to complete arbitrary tasks.\n",
    "    <li>a ToDo app, as a simple example</li>\n",
    "    <li>a Slackbot, that can do anything (<a href=\"/src/guides/slackbot/\">see example</a>)</li>\n",
    "    <li>a router app that maintains a centralized global state and delegates work to other apps based on inputs (like <a href=\"https://github.com/microsoft/JARVIS\">JARVIS</a>)</li>\n",
    "  </p>\n",
    "</div>"
   ]
  },
  {
   "cell_type": "markdown",
   "metadata": {},
   "source": [
    "## Streaming\n",
    "\n",
    "AI Applications support streaming LLM outputs to facilitate a more friendly and responsive UX. To enable streaming, provide a `streaming_handler` function to the `AIApplication` class. The handler will be called each time a new token is received and provided a `Message` object that contains all data received from the LLM to that point. It can then perform any side effect (such as printing, logging, or updating a UI), but its return value (if any) is ignored."
   ]
  },
  {
   "cell_type": "code",
   "execution_count": 5,
   "metadata": {},
   "outputs": [
    {
     "name": "stdout",
     "output_type": "stream",
     "text": [
      "\n",
      "The\n",
      "The sum\n",
      "The sum of\n",
      "The sum of \n",
      "The sum of 1\n",
      "The sum of 1 and\n",
      "The sum of 1 and \n",
      "The sum of 1 and 1\n",
      "The sum of 1 and 1 is\n",
      "The sum of 1 and 1 is \n",
      "The sum of 1 and 1 is 2\n",
      "The sum of 1 and 1 is 2.\n",
      "The sum of 1 and 1 is 2.\n"
     ]
    }
   ],
   "source": [
    "streaming_app = AIApplication(\n",
    "    # pretty-print every partial message as received\n",
    "    stream_handler=lambda msg: print(msg.content)\n",
    ")\n",
    "\n",
    "response = streaming_app(\"What's 1 + 1?\")"
   ]
  },
  {
   "cell_type": "markdown",
   "metadata": {},
   "source": [
    "<div class=\"admonition tip\">\n",
    "  <p class=\"admonition-title\">Per-token callbacks</p>\n",
    "  <p>\n",
    "    The streaming handler is called with a <code>Message</code> object that represents all data received to that point, but the most-recently received tokens are stored in a raw (\"delta\") form and can be accessed as <code>message.data['streaming_delta']</code>.\n",
    "  </p>\n",
    "</div>\n",
    "\n"
   ]
  },
  {
   "cell_type": "markdown",
   "metadata": {},
   "source": [
    "## Features\n",
    "\n",
    "#### 🔨 Easy to Extend\n",
    "AI Applications accept a `list[Tool]`, where an arbitrary python function can be interpreted as a tool - so you can bring your own tools.\n",
    "\n",
    "#### 🤖 Stateful\n",
    "AI applications can consult and maintain their own application state, which they update as they receive inputs from the world and perform actions.\n",
    "\n",
    "#### 📝 Task Planning\n",
    "AI Applications can also maintain an internal `AppPlan`, a `list[Task]` that represent the status of the application's current plan. Like the application's state, the plan is updated as the application instance evolves."
   ]
  }
 ],
 "metadata": {
  "kernelspec": {
   "display_name": "Python 3",
   "language": "python",
   "name": "python3"
  },
  "language_info": {
   "codemirror_mode": {
    "name": "ipython",
    "version": 3
   },
   "file_extension": ".py",
   "mimetype": "text/x-python",
   "name": "python",
   "nbconvert_exporter": "python",
   "pygments_lexer": "ipython3",
   "version": "3.10.9"
  },
  "orig_nbformat": 4
 },
 "nbformat": 4,
 "nbformat_minor": 2
}
