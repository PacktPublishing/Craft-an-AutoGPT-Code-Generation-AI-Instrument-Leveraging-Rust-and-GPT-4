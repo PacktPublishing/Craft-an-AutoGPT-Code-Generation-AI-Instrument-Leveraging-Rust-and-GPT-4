{
 "cells": [
  {
   "attachments": {},
   "cell_type": "markdown",
   "metadata": {},
   "source": [
    "# AI Function\n",
    "\n",
    "AI Functions are a high-level component, or building block, of Marvin. Like all Marvin components, they are completely standalone: you're free to use them with or without the rest of Marvin."
   ]
  },
  {
   "attachments": {},
   "cell_type": "markdown",
   "metadata": {},
   "source": [
    "<div class=\"admonition abstract\">\n",
    "  <p class=\"admonition-title\">What it does</p>\n",
    "  <p>\n",
    "    <code>@ai_fn</code> is a decorator that lets you use LLMs to generate outputs for Python functions without source code.\n",
    "  </p>\n",
    "</div>"
   ]
  },
  {
   "cell_type": "code",
   "execution_count": null,
   "metadata": {},
   "outputs": [],
   "source": [
    "from marvin import ai_fn\n",
    "\n",
    "\n",
    "@ai_fn\n",
    "def generate_recipe(ingredients: list[str]) -> list[str]:\n",
    "    \"\"\"From a list of `ingredients`, generates a\n",
    "    complete instruction set to cook a recipe.\n",
    "    \"\"\"\n",
    "\n",
    "\n",
    "generate_recipe([\"lemon\", \"chicken\", \"olives\", \"coucous\"])"
   ]
  },
  {
   "attachments": {},
   "cell_type": "markdown",
   "metadata": {},
   "source": [
    "<div class=\"admonition info\">\n",
    "  <p class=\"admonition-title\">How it works</p>\n",
    "  <p>\n",
    "    AI Functions take your function's name, description, signature, source code, type hints, and provided inputs to predict a likely output. By default, no source code is generated and any existing source code is not executed. The only runtime is the LLM.\n",
    "  </p>\n",
    "</div>"
   ]
  },
  {
   "attachments": {},
   "cell_type": "markdown",
   "metadata": {},
   "source": [
    "<div class=\"admonition tip\">\n",
    "  <p class=\"admonition-title\">When to use</p>\n",
    "  <p>\n",
    "    <ol>\n",
    "    <li> Best for generative tasks: creation and summarization of text or data models.\n",
    "    <li> Best for writing functions that would otherwise be impossible to write.\n",
    "    <li> Great for data extraction, though: see AI Models.\n",
    "    </ol>\n",
    "  </p>\n",
    "</div>"
   ]
  },
  {
   "cell_type": "markdown",
   "metadata": {},
   "source": [
    "## Mapping\n",
    "\n",
    "AI Functions can be mapped over sequences of arguments. Mapped functions run concurrently, which means they run practically in parallel (since they are IO-bound). Therefore, the map will complete as soon as the slowest function call finishes.\n",
    "\n",
    "To see how mapping works, consider this AI Function:"
   ]
  },
  {
   "cell_type": "code",
   "execution_count": 4,
   "metadata": {},
   "outputs": [],
   "source": [
    "@ai_fn\n",
    "def list_fruit(n: int, color: str = None) -> list[str]:\n",
    "    \"\"\"\n",
    "    Returns a list of `n` fruit that all have the provided `color`\n",
    "    \"\"\""
   ]
  },
  {
   "cell_type": "markdown",
   "metadata": {},
   "source": [
    "Mapping is invoked by using the AI Function's `.map()` method. When mapping, you call the function as you normally would, except that each argument should be a list of items. The function will be called on each set of items (e.g. first with each argument's first item, then with each argument's second item, etc.). For example, this is the same as calling `list_fruit(2)` and `list_fruit(3)` concurrently:"
   ]
  },
  {
   "cell_type": "code",
   "execution_count": 5,
   "metadata": {},
   "outputs": [
    {
     "data": {
      "text/plain": [
       "[['apple', 'banana'], ['apple', 'banana', 'orange']]"
      ]
     },
     "execution_count": 5,
     "metadata": {},
     "output_type": "execute_result"
    }
   ],
   "source": [
    "list_fruit.map([2, 3])"
   ]
  },
  {
   "cell_type": "markdown",
   "metadata": {},
   "source": [
    "And this is the same as calling `list_fruit(2, color='orange')` and `list_fruit(3, color='red')` concurrently:"
   ]
  },
  {
   "cell_type": "code",
   "execution_count": 8,
   "metadata": {},
   "outputs": [
    {
     "data": {
      "text/plain": [
       "[['orange', 'orange'], ['apple', 'strawberry', 'cherry']]"
      ]
     },
     "execution_count": 8,
     "metadata": {},
     "output_type": "execute_result"
    }
   ],
   "source": [
    "list_fruit.map([2, 3], color=[\"orange\", \"red\"])"
   ]
  },
  {
   "attachments": {},
   "cell_type": "markdown",
   "metadata": {},
   "source": [
    "## Features\n",
    "#### ⚙️ Type Safe\n",
    "\n",
    "`ai_fn` is fully type-safe. It works out of the box with Pydantic models in your function's parameters or return type."
   ]
  },
  {
   "cell_type": "code",
   "execution_count": null,
   "metadata": {},
   "outputs": [],
   "source": [
    "from pydantic import BaseModel\n",
    "from marvin import ai_fn\n",
    "\n",
    "\n",
    "class SyntheticCustomer(BaseModel):\n",
    "    age: int\n",
    "    location: str\n",
    "    purchase_history: list[str]\n",
    "\n",
    "\n",
    "@ai_fn\n",
    "def generate_synthetic_customer_data(\n",
    "    n: int, locations: list[str], average_purchase_history_length: int\n",
    ") -> list[SyntheticCustomer]:\n",
    "    \"\"\"Generates synthetic customer data based on the given parameters.\n",
    "    Parameters include the number of customers ('n'),\n",
    "    a list of potential locations, and the average length of a purchase history.\n",
    "    \"\"\"\n",
    "\n",
    "\n",
    "customers = generate_synthetic_customer_data(\n",
    "    5, [\"New York\", \"San Francisco\", \"Chicago\"], 3\n",
    ")"
   ]
  },
  {
   "attachments": {},
   "cell_type": "markdown",
   "metadata": {},
   "source": [
    "#### 🗣️ Natural Language API\n",
    "\n",
    "Marvin exposes an API to prompt an `ai_fn` with natural language. This lets you create a Language API for any function you can write down."
   ]
  },
  {
   "cell_type": "code",
   "execution_count": null,
   "metadata": {},
   "outputs": [],
   "source": [
    "generate_synthetic_customer_data.prompt(\n",
    "    \"I need 10 profiles from rural US cities making between 3 and 7 purchases\"\n",
    ")"
   ]
  },
  {
   "attachments": {},
   "cell_type": "markdown",
   "metadata": {
    "tags": [
     "hide_cell"
    ]
   },
   "source": [
    "🧪 Code Generation\n",
    "\n",
    "By default, no code is generated or executed when you call an `ai_fn`. For those who wish to author code, Marvin exposes an experimental API for code generation. Simply call `.code()` on an ai_fn, and Marvin will generate the code for you. By default, Marvin will write python code. You can pass a language keyword to generate code in other languages, i.e. `.code(language = 'rust')`. For best performance give your function a good name, with descriptive docstring, and a signature with type-hints. Provided code will be interpreted as pseudocode. "
   ]
  },
  {
   "cell_type": "code",
   "execution_count": null,
   "metadata": {
    "tags": [
     "hide_cell"
    ]
   },
   "outputs": [],
   "source": [
    "from marvin import ai_fn\n",
    "\n",
    "\n",
    "@ai_fn\n",
    "def fibonacci(n: int) -> int:\n",
    "    \"\"\"\n",
    "    Returns the nth number in the Fibonacci sequence.\n",
    "    \"\"\"\n",
    "\n",
    "\n",
    "fibonacci.code(language=\"rust\")"
   ]
  },
  {
   "attachments": {},
   "cell_type": "markdown",
   "metadata": {},
   "source": [
    "## Examples\n",
    "\n",
    "#### Customer Sentiment\n",
    "\n",
    "<div class=\"admonition tip\">\n",
    "  <p class=\"admonition-title\">Rapidly prototype natural language pipelines.</p>\n",
    "  <p>\n",
    "    Use hallucination as a literal feature. Generate data that would be impossible\n",
    "    or prohibatively expensive to purchase as you rapidly protype NLP pipelines. \n",
    "  </p>\n",
    "</div>\n"
   ]
  },
  {
   "cell_type": "code",
   "execution_count": null,
   "metadata": {},
   "outputs": [],
   "source": [
    "@ai_fn\n",
    "def analyze_customer_sentiment(reviews: list[str]) -> dict:\n",
    "    \"\"\"\n",
    "    Returns an analysis of customer sentiment, including common\n",
    "    complaints, praises, and suggestions, from a list of product\n",
    "    reviews.\n",
    "    \"\"\"\n",
    "\n",
    "\n",
    "# analyze_customer_sentiment([\"I love this product!\", \"I hate this product!\"])"
   ]
  },
  {
   "attachments": {},
   "cell_type": "markdown",
   "metadata": {},
   "source": [
    "#### Generate Synthetic Data\n",
    "\n",
    "<div class=\"admonition tip\">\n",
    "  <p class=\"admonition-title\">General real fake data.</p>\n",
    "  <p>\n",
    "    Use hallucination as a figurative feature. Use python or pydantic\n",
    "    to describe the data model you need, and generate realistic data on the fly \n",
    "    for sales demos.\n",
    "  </p>\n",
    "</div>"
   ]
  },
  {
   "cell_type": "code",
   "execution_count": null,
   "metadata": {},
   "outputs": [],
   "source": [
    "class FinancialReport(pydantic.BaseModel):\n",
    "    ...\n",
    "\n",
    "\n",
    "@ai_fn\n",
    "def create_drip_email(n: int, market_conditions: str) -> list[FinancialReport]:\n",
    "    \"\"\"\n",
    "    Generates `n` synthetic financial reports based on specified\n",
    "    `market_conditions` (e.g., 'recession', 'bull market', 'stagnant economy').\n",
    "    \"\"\""
   ]
  },
  {
   "cell_type": "code",
   "execution_count": null,
   "metadata": {},
   "outputs": [],
   "source": [
    "class IoTData(pydantic.BaseModel):\n",
    "    ...\n",
    "\n",
    "\n",
    "@ai_fn\n",
    "def generate_synthetic_IoT_data(n: int, device_type: str) -> list[IoTData]:\n",
    "    \"\"\"\n",
    "    Generates `n` synthetic data points mimicking those from a specified\n",
    "    `device_type` in an IoT system.\n",
    "    \"\"\""
   ]
  }
 ],
 "metadata": {
  "kernelspec": {
   "display_name": "Python 3 (ipykernel)",
   "language": "python",
   "name": "python3"
  },
  "language_info": {
   "codemirror_mode": {
    "name": "ipython",
    "version": 3
   },
   "file_extension": ".py",
   "mimetype": "text/x-python",
   "name": "python",
   "nbconvert_exporter": "python",
   "pygments_lexer": "ipython3",
   "version": "3.10.9"
  },
  "orig_nbformat": 4
 },
 "nbformat": 4,
 "nbformat_minor": 2
}
