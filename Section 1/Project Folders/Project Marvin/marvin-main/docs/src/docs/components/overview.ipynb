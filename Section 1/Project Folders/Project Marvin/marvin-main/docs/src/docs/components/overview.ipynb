{
 "cells": [
  {
   "attachments": {},
   "cell_type": "markdown",
   "metadata": {},
   "source": [
    "# AI Components\n",
    "\n",
    "Marvin introduces a number of components that can become the building blocks of AI-powered software.\n"
   ]
  },
  {
   "attachments": {},
   "cell_type": "markdown",
   "metadata": {},
   "source": [
    "## AI Models\n",
    "\n",
    "Marvin's most basic component is the AI Model, a drop-in replacement for Pydantic's `BaseModel`. AI Models can be instantiated from any string, making them ideal for structuring data, entity extraction, and synthetic data generation:\n"
   ]
  },
  {
   "cell_type": "code",
   "execution_count": 2,
   "metadata": {},
   "outputs": [
    {
     "data": {
      "text/plain": [
       "Location(city='New York', state='NY')"
      ]
     },
     "execution_count": 2,
     "metadata": {},
     "output_type": "execute_result"
    }
   ],
   "source": [
    "from marvin import ai_model\n",
    "from pydantic import BaseModel, Field\n",
    "\n",
    "\n",
    "@ai_model\n",
    "class Location(BaseModel):\n",
    "    city: str\n",
    "    state: str = Field(..., description=\"The two-letter state abbreviation\")\n",
    "\n",
    "\n",
    "Location(\"The Big Apple\")"
   ]
  },
  {
   "attachments": {},
   "cell_type": "markdown",
   "metadata": {},
   "source": [
    "## AI Classifiers\n",
    "\n",
    "AI Classifiers let you build multi-label classifiers with no code and no training data. It enumerates your options, and uses a [clever logit bias trick](https://twitter.com/AAAzzam/status/1669753721574633473) to force an LLM to deductively choose the index of the best option given your provided input. It then returns the choice associated to that index. It's bulletproof, cost-effective, and lets you build classifiers as quickly as you can write your classes."
   ]
  },
  {
   "cell_type": "code",
   "execution_count": 13,
   "metadata": {},
   "outputs": [
    {
     "data": {
      "text/plain": [
       "<AppRoute.USER_PROFILE: '/user-profile'>"
      ]
     },
     "execution_count": 13,
     "metadata": {},
     "output_type": "execute_result"
    }
   ],
   "source": [
    "from marvin import ai_classifier\n",
    "from enum import Enum\n",
    "\n",
    "\n",
    "@ai_classifier\n",
    "class AppRoute(Enum):\n",
    "    \"\"\"Represents distinct routes command bar for a different application\"\"\"\n",
    "\n",
    "    USER_PROFILE = \"/user-profile\"\n",
    "    SEARCH = \"/search\"\n",
    "    NOTIFICATIONS = \"/notifications\"\n",
    "    SETTINGS = \"/settings\"\n",
    "    HELP = \"/help\"\n",
    "    CHAT = \"/chat\"\n",
    "    DOCS = \"/docs\"\n",
    "    PROJECTS = \"/projects\"\n",
    "    WORKSPACES = \"/workspaces\"\n",
    "\n",
    "\n",
    "AppRoute(\"update my name\")"
   ]
  },
  {
   "attachments": {},
   "cell_type": "markdown",
   "metadata": {},
   "source": [
    "## AI Functions\n",
    "\n",
    "AI Functions look like regular functions, but have no source code. Instead, an AI uses their description and inputs to generate their outputs, making them ideal for NLP applications like sentiment analysis. "
   ]
  },
  {
   "cell_type": "code",
   "execution_count": 9,
   "metadata": {},
   "outputs": [
    {
     "name": "stdout",
     "output_type": "stream",
     "text": [
      "Text 1: 0.8\n",
      "Text 2: -0.2\n"
     ]
    }
   ],
   "source": [
    "from marvin import ai_fn\n",
    "\n",
    "\n",
    "@ai_fn\n",
    "def sentiment(text: str) -> float:\n",
    "    \"\"\"\n",
    "    Given `text`, returns a number between 1 (positive) and -1 (negative)\n",
    "    indicating its sentiment score.\n",
    "    \"\"\"\n",
    "\n",
    "\n",
    "print(\"Text 1:\", sentiment(\"I love working with Marvin!\"))\n",
    "print(\"Text 2:\", sentiment(\"These examples could use some work...\"))"
   ]
  },
  {
   "attachments": {},
   "cell_type": "markdown",
   "metadata": {},
   "source": [
    "Because AI functions are just like regular functions, you can quickly modify them for your needs. Here, we modify the above example to work with multiple strings at once:"
   ]
  },
  {
   "cell_type": "code",
   "execution_count": 11,
   "metadata": {},
   "outputs": [
    {
     "data": {
      "text/plain": [
       "[0.7, -0.5]"
      ]
     },
     "execution_count": 11,
     "metadata": {},
     "output_type": "execute_result"
    }
   ],
   "source": [
    "from marvin import ai_fn\n",
    "\n",
    "\n",
    "@ai_fn\n",
    "def sentiment_list(texts: list[str]) -> list[float]:\n",
    "    \"\"\"\n",
    "    Given a list of `texts`, returns a list of numbers between 1 (positive) and\n",
    "    -1 (negative) indicating their respective sentiment scores.\n",
    "    \"\"\"\n",
    "\n",
    "\n",
    "sentiment_list(\n",
    "    [\n",
    "        \"That was surprisingly easy!\",\n",
    "        \"Oh no, not again.\",\n",
    "    ]\n",
    ")"
   ]
  },
  {
   "attachments": {},
   "cell_type": "markdown",
   "metadata": {},
   "source": [
    "## AI Applications\n",
    "\n",
    "AI Applications are the base class for interactive use cases. They are designed to be invoked one or more times, and automatically maintain three forms of state:\n",
    "- `state`: a structured application state\n",
    "- `plan`: high-level planning for the AI assistant to keep the application \"on-track\" across multiple invocations\n",
    "- `history`: a history of all LLM interactions\n",
    "\n",
    "AI Applications can be used to implement many \"classic\" LLM use cases, such as chatbots, tool-using agents, developer assistants, and more. In addition, thanks to their persistent state and planning, they can implement applications that don't have a traditional chat UX, such as a ToDo app. Here's an example:"
   ]
  },
  {
   "cell_type": "code",
   "execution_count": 10,
   "metadata": {},
   "outputs": [],
   "source": [
    "from datetime import datetime\n",
    "from pydantic import BaseModel, Field\n",
    "from marvin import AIApplication\n",
    "\n",
    "\n",
    "# create models to represent the state of our ToDo app\n",
    "class ToDo(BaseModel):\n",
    "    title: str\n",
    "    description: str = None\n",
    "    due_date: datetime = None\n",
    "    done: bool = False\n",
    "\n",
    "\n",
    "class ToDoState(BaseModel):\n",
    "    todos: list[ToDo] = []\n",
    "\n",
    "\n",
    "# create the app with an initial state and description\n",
    "todo_app = AIApplication(\n",
    "    state=ToDoState(),\n",
    "    description=(\n",
    "        \"A simple todo app. Users will provide instructions for creating and updating\"\n",
    "        \" their todo lists.\"\n",
    "    ),\n",
    ")"
   ]
  },
  {
   "attachments": {},
   "cell_type": "markdown",
   "metadata": {},
   "source": [
    "Now we can invoke the app directly to add a to-do item. Note that the app understands that it is supposed to manipulate state, not just respond conversationally."
   ]
  },
  {
   "cell_type": "code",
   "execution_count": 11,
   "metadata": {},
   "outputs": [
    {
     "name": "stdout",
     "output_type": "stream",
     "text": [
      "Response: Got it! I've added a new task to your to-do list. You need to go to the store tomorrow at 5pm.\n",
      "\n",
      "App state: {\n",
      "  \"todos\": [\n",
      "    {\n",
      "      \"title\": \"Go to the store\",\n",
      "      \"description\": \"Buy groceries\",\n",
      "      \"due_date\": \"2023-07-12T17:00:00+00:00\",\n",
      "      \"done\": false\n",
      "    }\n",
      "  ]\n",
      "}\n"
     ]
    }
   ],
   "source": [
    "# invoke the application by adding a todo\n",
    "response = todo_app(\"I need to go to the store tomorrow at 5pm\")\n",
    "\n",
    "\n",
    "print(f\"Response: {response.content}\\n\")\n",
    "print(f\"App state: {todo_app.state.json(indent=2)}\")"
   ]
  },
  {
   "attachments": {},
   "cell_type": "markdown",
   "metadata": {},
   "source": [
    "We can inform the app that we already finished the task, and it updates state appropriately"
   ]
  },
  {
   "cell_type": "code",
   "execution_count": 12,
   "metadata": {},
   "outputs": [
    {
     "name": "stdout",
     "output_type": "stream",
     "text": [
      "Response: Great! I've marked the task as completed. Is there anything else you'd like to add to your to-do list?\n",
      "\n",
      "App state: {\n",
      "  \"todos\": [\n",
      "    {\n",
      "      \"title\": \"Go to the store\",\n",
      "      \"description\": \"Buy groceries\",\n",
      "      \"due_date\": \"2023-07-12T17:00:00+00:00\",\n",
      "      \"done\": true\n",
      "    }\n",
      "  ]\n",
      "}\n"
     ]
    }
   ],
   "source": [
    "# complete the task\n",
    "response = todo_app(\"I already went\")\n",
    "\n",
    "\n",
    "print(f\"Response: {response.content}\\n\")\n",
    "print(f\"App state: {todo_app.state.json(indent=2)}\")"
   ]
  },
  {
   "cell_type": "code",
   "execution_count": null,
   "metadata": {},
   "outputs": [],
   "source": []
  }
 ],
 "metadata": {
  "kernelspec": {
   "display_name": "marvin",
   "language": "python",
   "name": "python3"
  },
  "language_info": {
   "codemirror_mode": {
    "name": "ipython",
    "version": 3
   },
   "file_extension": ".py",
   "mimetype": "text/x-python",
   "name": "python",
   "nbconvert_exporter": "python",
   "pygments_lexer": "ipython3",
   "version": "3.10.9"
  },
  "orig_nbformat": 4
 },
 "nbformat": 4,
 "nbformat_minor": 2
}
